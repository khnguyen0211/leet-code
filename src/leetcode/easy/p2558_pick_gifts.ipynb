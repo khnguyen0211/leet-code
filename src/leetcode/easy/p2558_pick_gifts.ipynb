{
 "cells": [
  {
   "cell_type": "code",
   "execution_count": 2,
   "metadata": {},
   "outputs": [],
   "source": [
    "import heapq\n",
    "import math\n",
    "\n",
    "class Solution(object):\n",
    "\n",
    "    def pickGifts(self, gifts: list[int], k: int) -> int:\n",
    "        heap = list()\n",
    "        for i in gifts:\n",
    "            heapq.heappush(heap, -i)\n",
    "\n",
    "        for i in range(k):\n",
    "            heapq.heappushpop(heap, -1 * int(math.sqrt(-1 * heap[0])))\n",
    "\n",
    "        return -1 * sum(heap)"
   ]
  }
 ],
 "metadata": {
  "kernelspec": {
   "display_name": "base",
   "language": "python",
   "name": "python3"
  },
  "language_info": {
   "codemirror_mode": {
    "name": "ipython",
    "version": 3
   },
   "file_extension": ".py",
   "mimetype": "text/x-python",
   "name": "python",
   "nbconvert_exporter": "python",
   "pygments_lexer": "ipython3",
   "version": "3.12.7"
  }
 },
 "nbformat": 4,
 "nbformat_minor": 2
}
