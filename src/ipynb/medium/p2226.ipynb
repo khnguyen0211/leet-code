{
 "cells": [
  {
   "cell_type": "markdown",
   "metadata": {},
   "source": [
    "<a href=\"https://leetcode.com/problems/maximum-candies-allocated-to-k-children/description/\">2226. Maximum Candies Allocated to K Children</a>\n"
   ]
  },
  {
   "cell_type": "code",
   "execution_count": 9,
   "metadata": {},
   "outputs": [],
   "source": [
    "class Solution:\n",
    "    def canAllocate(self, candy: int, piles: list[int], k: int) -> bool:\n",
    "        max_children: int = 0\n",
    "        for pile in piles:\n",
    "            max_children += pile // candy\n",
    "        return max_children >= k\n",
    "\n",
    "    def maximumCandies(self, piles: list[int], k: int) -> int:\n",
    "        largest_pile = 0\n",
    "        for pile in piles:\n",
    "            if pile > largest_pile:\n",
    "                largest_pile = pile\n",
    "\n",
    "        left_candy = 0\n",
    "        right_candy = largest_pile\n",
    "        while left_candy < right_candy:\n",
    "            middle_candy = (left_candy + right_candy + 1) // 2\n",
    "            if self.canAllocate(middle_candy, piles, k):\n",
    "                left_candy =  middle_candy\n",
    "            else:\n",
    "                right_candy = middle_candy - 1\n",
    "\n",
    "        return left_candy"
   ]
  }
 ],
 "metadata": {
  "kernelspec": {
   "display_name": "llms",
   "language": "python",
   "name": "python3"
  },
  "language_info": {
   "codemirror_mode": {
    "name": "ipython",
    "version": 3
   },
   "file_extension": ".py",
   "mimetype": "text/x-python",
   "name": "python",
   "nbconvert_exporter": "python",
   "pygments_lexer": "ipython3",
   "version": "3.11.11"
  }
 },
 "nbformat": 4,
 "nbformat_minor": 2
}
