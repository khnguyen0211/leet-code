{
 "cells": [
  {
   "cell_type": "markdown",
   "metadata": {},
   "source": [
    "<a href=\"https://leetcode.com/problems/partition-array-according-to-given-pivot/description/\">2161. Partition Array According to Given Pivot</a>"
   ]
  },
  {
   "cell_type": "code",
   "execution_count": null,
   "metadata": {},
   "outputs": [],
   "source": [
    "class Solution:\n",
    "    def pivotArray(self, nums: list[int], pivot: int) -> list[int]:\n",
    "        left: list[int] = list()\n",
    "        middle: list[int] = list()\n",
    "        right: list[int] = list()\n",
    "        for i in nums:\n",
    "            if i < pivot:\n",
    "                left.append(i)\n",
    "            elif i == pivot:\n",
    "                middle.append(i)\n",
    "            else:\n",
    "                right.append(i)\n",
    "       \n",
    "        return (left + middle + right)"
   ]
  }
 ],
 "metadata": {
  "language_info": {
   "name": "python"
  }
 },
 "nbformat": 4,
 "nbformat_minor": 2
}
