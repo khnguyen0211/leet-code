{
 "cells": [
  {
   "cell_type": "markdown",
   "metadata": {},
   "source": [
    "<a href=\"https://leetcode.com/problems/closest-prime-numbers-in-range/description/\">2523. Closest Prime Numbers in Range</a>"
   ]
  },
  {
   "cell_type": "code",
   "execution_count": 2,
   "metadata": {},
   "outputs": [],
   "source": [
    "import math\n",
    "class Solution:\n",
    "    def isPrime(self, num: int) -> bool:\n",
    "        if num < 2:\n",
    "            return False\n",
    "\n",
    "        for i in range(2, int(math.sqrt(num)) + 1):\n",
    "            if num % i == 0:\n",
    "                return False\n",
    "        \n",
    "        return True\n",
    "\n",
    "    def closestList(self, primesList: list[int]) -> list[int]:\n",
    "        n = len(primesList)\n",
    "        if n < 2:\n",
    "            return [-1, -1]\n",
    "        ans: list[int] = [primesList[0], primesList[1]]\n",
    "        for i in range(1, n - 1):\n",
    "            for j in range(i + 1, n):\n",
    "                if primesList[j] - primesList[i] < ans[1] - ans[0]:\n",
    "                    ans[0] = primesList[i]\n",
    "                    ans[1] = primesList[j]\n",
    "                    if ans[1] - ans[0] == 2:\n",
    "                        return ans\n",
    "        return ans\n",
    "\n",
    "    def closestPrimes(self, left: int, right: int) -> list[int]:\n",
    "        primesList: list[int] = list()\n",
    "        for i in range(left, right + 1):\n",
    "            if self.isPrime(i):\n",
    "                if primesList and i - primesList[-1] <= 2:\n",
    "                    return [primesList[-1], i]\n",
    "                primesList.append(i)\n",
    "        return self.closestList(primesList)\n",
    "            "
   ]
  }
 ],
 "metadata": {
  "kernelspec": {
   "display_name": "llms",
   "language": "python",
   "name": "python3"
  },
  "language_info": {
   "codemirror_mode": {
    "name": "ipython",
    "version": 3
   },
   "file_extension": ".py",
   "mimetype": "text/x-python",
   "name": "python",
   "nbconvert_exporter": "python",
   "pygments_lexer": "ipython3",
   "version": "3.11.11"
  }
 },
 "nbformat": 4,
 "nbformat_minor": 2
}
