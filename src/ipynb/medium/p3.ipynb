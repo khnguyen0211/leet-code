{
 "cells": [
  {
   "cell_type": "markdown",
   "metadata": {},
   "source": [
    "<a href=\"https://leetcode.com/problems/longest-substring-without-repeating-characters/description/\">3. Longest Substring Without Repeating Characters</a>"
   ]
  },
  {
   "cell_type": "code",
   "execution_count": 60,
   "metadata": {},
   "outputs": [
    {
     "data": {
      "text/plain": [
       "2"
      ]
     },
     "execution_count": 60,
     "metadata": {},
     "output_type": "execute_result"
    }
   ],
   "source": [
    "class Solution:\n",
    "    def lengthOfLongestSubstring(self, s: str) -> int:\n",
    "        maxLength = 0\n",
    "        n = len(s)\n",
    "        for i in range(n - 1):\n",
    "            ss = s[i]\n",
    "            for j in range(i + 1, n):\n",
    "                if s[j] not in ss:\n",
    "                    ss += s[j]\n",
    "                    maxLength = len(ss)\n",
    "        return maxLength\n",
    "\n",
    "    def isNotDuplicateString(self, substring: str) -> bool:\n",
    "        strDict = dict()\n",
    "        for i in range(len(substring)):\n",
    "            if not strDict.get(substring[i]):\n",
    "                strDict[substring[i]] = 1\n",
    "            else:\n",
    "                if strDict.get(substring[i]):\n",
    "                    strDict[substring[i]] += 1\n",
    "            if strDict.get(substring[i]) > 1:\n",
    "                return False\n",
    "        return True\n",
    "\n",
    "\n",
    "s = \"abcabcbb\"\n",
    "Solution().lengthOfLongestSubstring(s)"
   ]
  },
  {
   "cell_type": "code",
   "execution_count": 61,
   "metadata": {},
   "outputs": [],
   "source": [
    "#Beat only 8.86%\n",
    "class Solution:\n",
    "    def lengthOfLongestSubstring(self, s: str) -> int:\n",
    "        maxLength = 0\n",
    "        n = len(s)\n",
    "        if n == 1:\n",
    "            return 1\n",
    "        for i in range(n - 1):\n",
    "            ss = s[i]\n",
    "            maxLength = max(maxLength, 1)\n",
    "            for j in range(i + 1, n):\n",
    "                if s[j] not in ss:\n",
    "                    ss += s[j]\n",
    "                else:\n",
    "                    break\n",
    "            if len(ss) > maxLength:\n",
    "                maxLength = len(ss)\n",
    "        return maxLength"
   ]
  },
  {
   "cell_type": "code",
   "execution_count": 62,
   "metadata": {},
   "outputs": [
    {
     "name": "stdout",
     "output_type": "stream",
     "text": [
      "\n",
      "(ss before):  x\n",
      "break x is contained in x\n",
      "0  (ss after):  x maxLength:  1\n",
      "\n",
      "(ss before):  xz\n",
      "break z is contained in xz\n",
      "1  (ss after):  xz maxLength:  2\n",
      "\n",
      "(ss before):  zqi\n",
      "break q is contained in zqi\n",
      "2  (ss after):  zqi maxLength:  3\n",
      "\n",
      "(ss before):  qi\n",
      "break i is contained in qi\n",
      "3  (ss after):  qi maxLength:  3\n",
      "\n",
      "(ss before):  i\n",
      "break i is contained in i\n",
      "4  (ss after):  i maxLength:  3\n"
     ]
    },
    {
     "data": {
      "text/plain": [
       "3"
      ]
     },
     "execution_count": 62,
     "metadata": {},
     "output_type": "execute_result"
    }
   ],
   "source": [
    "class Solution:\n",
    "    def lengthOfLongestSubstring(self, s: str) -> int:\n",
    "        maxLength = 0\n",
    "        n = len(s)\n",
    "        if n == 1:\n",
    "            return n\n",
    "\n",
    "        for i in range(n):\n",
    "            if maxLength > n - 1:\n",
    "                break\n",
    "            ss = s[i : i + maxLength + 1]\n",
    "            print(\"\\n(ss before): \", ss)\n",
    "            if not self.isNotDuplicateString(ss):\n",
    "                continue\n",
    "            for j in range(maxLength + 1, n):\n",
    "                if s[j] not in ss:\n",
    "                    ss += s[j]\n",
    "                else:\n",
    "                    print(\"break\", s[j], \"is contained in\", ss)\n",
    "                    break\n",
    "            if len(ss) > maxLength:\n",
    "                maxLength = len(ss)\n",
    "            print(i, \" (ss after): \", ss, \"maxLength: \", maxLength)\n",
    "        return maxLength\n",
    "\n",
    "    def isNotDuplicateString(self, substring: str) -> bool:\n",
    "        strDict = dict()\n",
    "        for i in range(len(substring)):\n",
    "            if not strDict.get(substring[i]):\n",
    "                strDict[substring[i]] = 1\n",
    "            else:\n",
    "                if strDict.get(substring[i]):\n",
    "                    strDict[substring[i]] += 1\n",
    "            if strDict.get(substring[i]) > 1:\n",
    "                return False\n",
    "        return True\n",
    "\n",
    "\n",
    "s = \"xxzqi\"\n",
    "Solution().lengthOfLongestSubstring(s)"
   ]
  },
  {
   "cell_type": "code",
   "execution_count": 63,
   "metadata": {},
   "outputs": [
    {
     "data": {
      "text/plain": [
       "True"
      ]
     },
     "execution_count": 63,
     "metadata": {},
     "output_type": "execute_result"
    }
   ],
   "source": [
    "def isNotDuplicateString(substring: str) -> bool:\n",
    "    strDict = dict()\n",
    "    for i in range(len(substring)):\n",
    "        if not strDict.get(substring[i]):\n",
    "            strDict[substring[i]] = 1\n",
    "        else:\n",
    "            if strDict.get(substring[i]):\n",
    "                strDict[substring[i]] += 1\n",
    "        if strDict.get(substring[i]) > 1:\n",
    "            return False\n",
    "    return True\n",
    "isNotDuplicateString(\"a\")"
   ]
  }
 ],
 "metadata": {
  "kernelspec": {
   "display_name": "llms",
   "language": "python",
   "name": "python3"
  },
  "language_info": {
   "codemirror_mode": {
    "name": "ipython",
    "version": 3
   },
   "file_extension": ".py",
   "mimetype": "text/x-python",
   "name": "python",
   "nbconvert_exporter": "python",
   "pygments_lexer": "ipython3",
   "version": "3.11.11"
  }
 },
 "nbformat": 4,
 "nbformat_minor": 2
}
