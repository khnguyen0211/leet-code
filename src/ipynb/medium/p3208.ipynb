{
 "cells": [
  {
   "cell_type": "markdown",
   "metadata": {},
   "source": [
    "<a href=\"https://leetcode.com/problems/alternating-groups-ii/description/\">3208. Alternating Groups II</a>"
   ]
  },
  {
   "cell_type": "code",
   "execution_count": null,
   "metadata": {},
   "outputs": [],
   "source": [
    "# 531/625 testcases passed\n",
    "class Solution:\n",
    "    def isAlternatingGroup(self, group: list[int]):\n",
    "        for i in range(len(group) - 1):\n",
    "            if group[i] == group[i + 1]:\n",
    "                return False\n",
    "        return True\n",
    "\n",
    "    def numberOfAlternatingGroups(self, colors: list[int], k: int) -> int:\n",
    "        n = len(colors)\n",
    "        colors += colors\n",
    "        counter = 0\n",
    "        for i in range(n):\n",
    "            group = colors[i : i + k]\n",
    "            if self.isAlternatingGroup(group):\n",
    "                counter += 1\n",
    "        return counter"
   ]
  }
 ],
 "metadata": {
  "kernelspec": {
   "display_name": "llms",
   "language": "python",
   "name": "python3"
  },
  "language_info": {
   "codemirror_mode": {
    "name": "ipython",
    "version": 3
   },
   "file_extension": ".py",
   "mimetype": "text/x-python",
   "name": "python",
   "nbconvert_exporter": "python",
   "pygments_lexer": "ipython3",
   "version": "3.11.11"
  }
 },
 "nbformat": 4,
 "nbformat_minor": 2
}
