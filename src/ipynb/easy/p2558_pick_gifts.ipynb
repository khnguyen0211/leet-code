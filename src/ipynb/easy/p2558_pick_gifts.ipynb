{
 "cells": [
  {
   "cell_type": "markdown",
   "metadata": {},
   "source": [
    "<a href=\"https://leetcode.com/problems/take-gifts-from-the-richest-pile/description/\">2558. Take Gifts From the Richest Pile</a>"
   ]
  },
  {
   "cell_type": "code",
   "execution_count": null,
   "metadata": {},
   "outputs": [],
   "source": [
    "import heapq\n",
    "import math\n",
    "\n",
    "class Solution:\n",
    "    def pickGifts(self, gifts: list[int], k: int) -> int:\n",
    "        heap = list()\n",
    "        for i in gifts:\n",
    "            heapq.heappush(heap, -i)\n",
    "\n",
    "        for i in range(k):\n",
    "            heapq.heappushpop(heap, -1 * int(math.sqrt(-1 * heap[0])))\n",
    "\n",
    "        return -1 * sum(heap)\n",
    "        "
   ]
  }
 ],
 "metadata": {
  "kernelspec": {
   "display_name": "base",
   "language": "python",
   "name": "python3"
  },
  "language_info": {
   "codemirror_mode": {
    "name": "ipython",
    "version": 3
   },
   "file_extension": ".py",
   "mimetype": "text/x-python",
   "name": "python",
   "nbconvert_exporter": "python",
   "pygments_lexer": "ipython3",
   "version": "3.12.7"
  }
 },
 "nbformat": 4,
 "nbformat_minor": 2
}
