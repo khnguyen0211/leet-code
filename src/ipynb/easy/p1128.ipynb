{
 "cells": [
  {
   "cell_type": "markdown",
   "id": "4a63c907",
   "metadata": {},
   "source": [
    "<a href=https://leetcode.com/problems/number-of-equivalent-domino-pairs/description>1128. Number of Equivalent Domino Pairs</a>"
   ]
  },
  {
   "cell_type": "code",
   "execution_count": null,
   "id": "bc9a539d",
   "metadata": {},
   "outputs": [],
   "source": [
    "from collections import defaultdict"
   ]
  },
  {
   "cell_type": "code",
   "execution_count": null,
   "id": "e9161e46",
   "metadata": {},
   "outputs": [],
   "source": [
    "class Solution:\n",
    "    def numEquivDominoPairs(self, dominoes: list[list[int]]) -> int:\n",
    "        counter = 0\n",
    "        n = len(dominoes)\n",
    "        for i in range(n - 1):\n",
    "            for j in range(i + 1, n):\n",
    "                if (\n",
    "                    dominoes[i][0] == dominoes[j][1]\n",
    "                    and dominoes[i][1] == dominoes[j][0]\n",
    "                ) or (\n",
    "                    dominoes[i][0] == dominoes[j][0]\n",
    "                    and dominoes[i][1] == dominoes[j][1]\n",
    "                ):\n",
    "                    counter += 1\n",
    "        return counter"
   ]
  },
  {
   "cell_type": "code",
   "execution_count": 1,
   "id": "554da35d",
   "metadata": {},
   "outputs": [],
   "source": [
    "class Solution:\n",
    "    def numEquivDominoPairs(self, dominoes: list[list[int]]) -> int:\n",
    "        counter = 0\n",
    "        dominoDict = defaultdict(int)\n",
    "        for d in dominoes:\n",
    "            dominoTuple = tuple(sorted(d))\n",
    "            if dominoDict.get(dominoTuple) == None:\n",
    "                dominoDict[dominoTuple] = 1\n",
    "            else:\n",
    "                dominoDict[dominoTuple] += 1\n",
    "        for key, value in dict(dominoDict).items():\n",
    "            counter += self.csc(value)\n",
    "        return counter\n",
    "\n",
    "    def csc(self, n: int) -> int:\n",
    "        return (n - 1) * n // 2"
   ]
  },
  {
   "cell_type": "code",
   "execution_count": 35,
   "id": "6c41fbab",
   "metadata": {},
   "outputs": [
    {
     "name": "stdout",
     "output_type": "stream",
     "text": [
      "defaultdict(<class 'int'>, {})\n",
      "{(1, 2): 1, (2, 1): 1, (3, 4): 1, (5, 6): 1}\n"
     ]
    }
   ],
   "source": [
    "dominoes = [[1,2],[2,1],[3,4],[5,6]]\n",
    "counter = defaultdict(int)\n",
    "print(counter)\n",
    "for d in dominoes:\n",
    "    key = tuple(d)\n",
    "    counter[key] += 1\n",
    "\n",
    "result = dict(counter)\n",
    "print(result)"
   ]
  }
 ],
 "metadata": {
  "kernelspec": {
   "display_name": "Python 3",
   "language": "python",
   "name": "python3"
  },
  "language_info": {
   "codemirror_mode": {
    "name": "ipython",
    "version": 3
   },
   "file_extension": ".py",
   "mimetype": "text/x-python",
   "name": "python",
   "nbconvert_exporter": "python",
   "pygments_lexer": "ipython3",
   "version": "3.12.10"
  }
 },
 "nbformat": 4,
 "nbformat_minor": 5
}
