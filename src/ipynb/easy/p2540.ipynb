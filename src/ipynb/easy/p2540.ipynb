{
 "cells": [
  {
   "cell_type": "markdown",
   "id": "89564adc",
   "metadata": {},
   "source": [
    "<a href=\"https://leetcode.com/problems/minimum-common-value/description/\">2540. Minimum Common Value</a>"
   ]
  },
  {
   "cell_type": "code",
   "execution_count": null,
   "id": "2cb360b5",
   "metadata": {},
   "outputs": [],
   "source": [
    "import math\n",
    "\n",
    "\"\"\"_summary_\n",
    "    Using binary search approach, it's taken 17ms for runtime and 37.03mb for memory.\n",
    "    BEATS: 24%\n",
    "    Mark: if len(nums1) > len(nums2): \n",
    "            return self.getCommon(nums2, nums1)\n",
    "\"\"\"\n",
    "\n",
    "\n",
    "class Solution:\n",
    "    def getCommon(self, nums1: list[int], nums2: list[int]) -> int:\n",
    "        if nums1[-1] < nums2[0] or nums2[-1] < nums1[0]:\n",
    "            return -1\n",
    "        if len(nums1) > len(nums2):\n",
    "            return self.getCommon(nums2, nums1)\n",
    "        for i in nums1:\n",
    "            if self.binarySearch(i, nums2):\n",
    "                return i\n",
    "        return -1\n",
    "\n",
    "    def binarySearch(self, target: int, nums: list[int]):\n",
    "        left = 0\n",
    "        right = len(nums) - 1\n",
    "        if target < nums[left] or target > nums[right]:\n",
    "            return False\n",
    "        while left <= right:\n",
    "            middle = math.floor((left + right) / 2)\n",
    "            if nums[middle] == target:\n",
    "                return True\n",
    "            elif target > nums[middle]:\n",
    "                left = middle + 1\n",
    "            else:\n",
    "                right = middle - 1\n",
    "        return False"
   ]
  },
  {
   "cell_type": "code",
   "execution_count": null,
   "id": "3a07faab",
   "metadata": {},
   "outputs": [],
   "source": [
    "\"\"\"_summary_\n",
    "    Using binary two pointer approach, it's taken 0ms for runtime and 36.72mb for memory.\n",
    "    BEATS: 100%\n",
    "    Mark: if len(nums1) > len(nums2): \n",
    "            return self.getCommon(nums2, nums1)\n",
    "\"\"\"\n",
    "\n",
    "\n",
    "class Solution:\n",
    "    def getCommon(self, nums1: list[int], nums2: list[int]) -> int:\n",
    "        if nums1[-1] < nums2[0] or nums2[-1] < nums1[0]:\n",
    "            return -1\n",
    "        left = right = 0\n",
    "\n",
    "        while left < len(nums1) and right < len(nums2):\n",
    "            if nums1[left] == nums2[right]:\n",
    "                return nums1[left]\n",
    "            elif nums1[left] > nums2[right]:\n",
    "                right += 1\n",
    "            else:\n",
    "                left += 1\n",
    "        return -1"
   ]
  }
 ],
 "metadata": {
  "kernelspec": {
   "display_name": "llms",
   "language": "python",
   "name": "python3"
  },
  "language_info": {
   "codemirror_mode": {
    "name": "ipython",
    "version": 3
   },
   "file_extension": ".py",
   "mimetype": "text/x-python",
   "name": "python",
   "nbconvert_exporter": "python",
   "pygments_lexer": "ipython3",
   "version": "3.11.11"
  }
 },
 "nbformat": 4,
 "nbformat_minor": 5
}
