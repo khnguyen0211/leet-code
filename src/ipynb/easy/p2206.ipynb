{
 "cells": [
  {
   "cell_type": "markdown",
   "metadata": {},
   "source": [
    "<a href=\"https://leetcode.com/problems/divide-array-into-equal-pairs/description/\">2206. Divide Array Into Equal Pairs</a>"
   ]
  },
  {
   "cell_type": "code",
   "execution_count": null,
   "metadata": {},
   "outputs": [],
   "source": [
    "class Solution:\n",
    "    def divideArray(self, nums: list[int]) -> bool:\n",
    "        hash_map: dict[int, int] = dict()\n",
    "        for i in nums:  \n",
    "            if hash_map.get(i):\n",
    "                hash_map[i] = hash_map[i] + 1\n",
    "            else:\n",
    "                hash_map[i] = 1\n",
    "        for i in nums:\n",
    "            if hash_map[i] % 2 != 0:\n",
    "                return False\n",
    "        return True"
   ]
  },
  {
   "cell_type": "code",
   "execution_count": null,
   "metadata": {},
   "outputs": [],
   "source": [
    "from collections import Counter\n",
    "\"\"\"_summary_\n",
    "    Counter is a function that counts occurrences of elements in an iterable and returns a dictionary-like object \n",
    "    where keys are elements and values are their frequencies\n",
    "\"\"\""
   ]
  },
  {
   "cell_type": "code",
   "execution_count": null,
   "metadata": {},
   "outputs": [],
   "source": [
    "class Solution:\n",
    "    def divideArray(self, nums: list[int]) -> bool:\n",
    "        counter = Counter(nums)\n",
    "        for value in counter.values():\n",
    "            if value % 2 != 0:\n",
    "                return False\n",
    "        return True"
   ]
  }
 ],
 "metadata": {
  "kernelspec": {
   "display_name": "llms",
   "language": "python",
   "name": "python3"
  },
  "language_info": {
   "codemirror_mode": {
    "name": "ipython",
    "version": 3
   },
   "file_extension": ".py",
   "mimetype": "text/x-python",
   "name": "python",
   "nbconvert_exporter": "python",
   "pygments_lexer": "ipython3",
   "version": "3.11.11"
  }
 },
 "nbformat": 4,
 "nbformat_minor": 2
}
