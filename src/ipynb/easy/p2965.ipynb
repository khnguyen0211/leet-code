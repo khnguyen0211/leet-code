{
 "cells": [
  {
   "cell_type": "markdown",
   "metadata": {},
   "source": [
    "<a href=\"https://leetcode.com/problems/find-missing-and-repeated-values/description/\">2965. Find Missing and Repeated Values</a>"
   ]
  },
  {
   "cell_type": "code",
   "execution_count": 1,
   "metadata": {},
   "outputs": [],
   "source": [
    "class Solution:\n",
    "    def findMissingAndRepeatedValues(self, grid: list[list[int]]) -> list[int]:\n",
    "        n = len(grid) * len(grid)\n",
    "        ans = [0 for i in range(0, 2)]\n",
    "        numDict = dict()\n",
    "        for row in grid:\n",
    "            for i in row:\n",
    "                numDict[i] =  numDict.get(i) + 1 if numDict.get(i) else 1;\n",
    "                if(numDict[i] == 2):\n",
    "                    ans[0] = i\n",
    "        for i in range(1, n + 1):\n",
    "            if not numDict.get(i):\n",
    "                ans[1] = i\n",
    "        return ans"
   ]
  }
 ],
 "metadata": {
  "kernelspec": {
   "display_name": "llms",
   "language": "python",
   "name": "python3"
  },
  "language_info": {
   "codemirror_mode": {
    "name": "ipython",
    "version": 3
   },
   "file_extension": ".py",
   "mimetype": "text/x-python",
   "name": "python",
   "nbconvert_exporter": "python",
   "pygments_lexer": "ipython3",
   "version": "3.11.11"
  }
 },
 "nbformat": 4,
 "nbformat_minor": 2
}
