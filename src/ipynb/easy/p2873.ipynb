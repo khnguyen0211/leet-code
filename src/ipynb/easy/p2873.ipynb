{
 "cells": [
  {
   "cell_type": "markdown",
   "id": "36077778",
   "metadata": {},
   "source": [
    "<a href=\"https://leetcode.com/problems/maximum-value-of-an-ordered-triplet-i/description\">2873. Maximum Value of an Ordered Triplet I</a>"
   ]
  },
  {
   "cell_type": "code",
   "execution_count": null,
   "id": "baf44607",
   "metadata": {},
   "outputs": [],
   "source": [
    "class Solution:\n",
    "    def maximumTripletValue(self, nums: list[int]) -> int:\n",
    "        maximumTripletValue = 0\n",
    "        n = len(nums)\n",
    "        for i in range(n - 2):\n",
    "            for j in range(i + 1, n - 1):\n",
    "                for k in range(j + 1, n):\n",
    "                    if (nums[i] - nums[j]) * nums[k] > maximumTripletValue:\n",
    "                        maximumTripletValue = (nums[i] - nums[j]) * nums[k]\n",
    "        return maximumTripletValue"
   ]
  }
 ],
 "metadata": {
  "language_info": {
   "name": "python"
  }
 },
 "nbformat": 4,
 "nbformat_minor": 5
}
