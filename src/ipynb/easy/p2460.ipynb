{
 "cells": [
  {
   "cell_type": "markdown",
   "metadata": {},
   "source": [
    "<a href=\"https://leetcode.com/problems/apply-operations-to-an-array/description/\">2460. Apply Operations to an Array</a>"
   ]
  },
  {
   "cell_type": "code",
   "execution_count": 6,
   "metadata": {},
   "outputs": [],
   "source": [
    "class Solution:\n",
    "    def applyOperations(self, nums: list[int]) -> list[int]:\n",
    "        positive = list()\n",
    "        counter = 0\n",
    "        for i in range(len(nums) - 1):\n",
    "            if nums[i] == nums[i + 1]:\n",
    "                nums[i] = nums[i] * 2\n",
    "                nums[i + 1] = 0\n",
    "            if nums[i] != 0:\n",
    "                positive.append(nums[i])\n",
    "            else:\n",
    "                counter += 1\n",
    "        if nums[len(nums) - 1] == 0:\n",
    "            positive.append(0)\n",
    "        else:\n",
    "            positive.append(nums[len(nums) - 1])\n",
    "        positive.extend([0 for i in range(counter)])\n",
    "        return positive"
   ]
  }
 ],
 "metadata": {
  "kernelspec": {
   "display_name": "llms",
   "language": "python",
   "name": "python3"
  },
  "language_info": {
   "codemirror_mode": {
    "name": "ipython",
    "version": 3
   },
   "file_extension": ".py",
   "mimetype": "text/x-python",
   "name": "python",
   "nbconvert_exporter": "python",
   "pygments_lexer": "ipython3",
   "version": "3.11.11"
  }
 },
 "nbformat": 4,
 "nbformat_minor": 2
}
