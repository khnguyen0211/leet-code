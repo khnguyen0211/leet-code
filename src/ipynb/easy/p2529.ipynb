{
 "cells": [
  {
   "cell_type": "markdown",
   "metadata": {},
   "source": [
    "<a href=\"https://leetcode.com/problems/maximum-count-of-positive-integer-and-negative-integer/description\">2529. Maximum Count of Positive Integer and Negative Integer</a>"
   ]
  },
  {
   "cell_type": "code",
   "execution_count": null,
   "metadata": {},
   "outputs": [
    {
     "data": {
      "text/plain": [
       "3"
      ]
     },
     "execution_count": 2,
     "metadata": {},
     "output_type": "execute_result"
    }
   ],
   "source": [
    "class Solution:\n",
    "    def maximumCount(self, nums: list[int]) -> int:\n",
    "        pos = 0\n",
    "        neg = 0\n",
    "        for i in nums:\n",
    "            if i > 0:\n",
    "                pos += 1\n",
    "          \n",
    "            if i < 0:\n",
    "                neg += 1\n",
    "        return max(pos, neg)"
   ]
  }
 ],
 "metadata": {
  "kernelspec": {
   "display_name": "llms",
   "language": "python",
   "name": "python3"
  },
  "language_info": {
   "codemirror_mode": {
    "name": "ipython",
    "version": 3
   },
   "file_extension": ".py",
   "mimetype": "text/x-python",
   "name": "python",
   "nbconvert_exporter": "python",
   "pygments_lexer": "ipython3",
   "version": "3.11.11"
  }
 },
 "nbformat": 4,
 "nbformat_minor": 2
}
