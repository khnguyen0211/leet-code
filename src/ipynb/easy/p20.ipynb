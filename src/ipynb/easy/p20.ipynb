{
 "cells": [
  {
   "cell_type": "markdown",
   "metadata": {},
   "source": [
    "<a href='https://leetcode.com/problems/valid-parentheses/description/'>20. Valid Parentheses</a>"
   ]
  },
  {
   "cell_type": "code",
   "execution_count": null,
   "metadata": {},
   "outputs": [],
   "source": [
    "class Solution:\n",
    "    def isValid(self, s: str) -> bool:\n",
    "        if len(s) == 0 or len(s) % 2 != 0:\n",
    "            return False\n",
    "        charDict = dict({\"(\": 0, \")\": 0, \"[\": 1, \"]\": 1, \"{\": 2, \"}\": 2})\n",
    "        openChars = \"({[\"\n",
    "        openList = list()\n",
    "        closeList = list()\n",
    "        for char in s:\n",
    "            if char in openChars:\n",
    "                openList.append(char)\n",
    "            else:\n",
    "                closeList.append(char)\n",
    "                if openList and charDict.get(openList.pop()) != charDict.get(\n",
    "                    closeList.pop(0)\n",
    "                ):\n",
    "                    return False\n",
    "        return len(openList) == 0 and len(closeList) == 0"
   ]
  }
 ],
 "metadata": {
  "language_info": {
   "name": "python"
  }
 },
 "nbformat": 4,
 "nbformat_minor": 2
}
