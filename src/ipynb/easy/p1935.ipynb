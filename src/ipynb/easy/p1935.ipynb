{
 "cells": [
  {
   "cell_type": "markdown",
   "id": "340d4049",
   "metadata": {},
   "source": [
    "<a href=\"https://leetcode.com/problems/maximum-number-of-words-you-can-type\">1935. Maximum Number of Words You Can Type</a>"
   ]
  },
  {
   "cell_type": "code",
   "execution_count": null,
   "id": "a3222e2b",
   "metadata": {},
   "outputs": [],
   "source": [
    "class Solution:\n",
    "    def canBeTypedWords(self, text: str, brokenLetters: str) -> int:\n",
    "        counter = 0\n",
    "        brokenLettersSet = set(brokenLetters)\n",
    "        words = text.split(\" \")\n",
    "        for word in words: \n",
    "            if not any((c in brokenLettersSet) for c in word):\n",
    "                counter += 1\n",
    "        return counter"
   ]
  }
 ],
 "metadata": {
  "kernelspec": {
   "display_name": "Python 3",
   "language": "python",
   "name": "python3"
  },
  "language_info": {
   "codemirror_mode": {
    "name": "ipython",
    "version": 3
   },
   "file_extension": ".py",
   "mimetype": "text/x-python",
   "name": "python",
   "nbconvert_exporter": "python",
   "pygments_lexer": "ipython3",
   "version": "3.12.10"
  }
 },
 "nbformat": 4,
 "nbformat_minor": 5
}
