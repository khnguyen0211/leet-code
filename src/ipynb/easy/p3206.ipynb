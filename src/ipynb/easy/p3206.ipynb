{
 "cells": [
  {
   "cell_type": "markdown",
   "metadata": {},
   "source": [
    "<a href=\"https://leetcode.com/problems/alternating-groups-i/description/\">3206. Alternating Groups I</a>"
   ]
  },
  {
   "cell_type": "code",
   "execution_count": null,
   "metadata": {},
   "outputs": [],
   "source": [
    "# Solution 1\n",
    "class Solution:\n",
    "    def numberOfAlternatingGroups(self, colors: list[int]) -> int:\n",
    "        counter: int = 0\n",
    "        for i in range(len(colors)):\n",
    "            if i == len(colors) - 1:\n",
    "                if colors[i] != colors[0] and colors[i] == colors[1]:\n",
    "                    counter += 1\n",
    "            elif i == len(colors) - 2:\n",
    "                if colors[i] != colors[i + 1] and colors[i] == colors[0]:\n",
    "                    counter += 1\n",
    "            else:\n",
    "                if colors[i] != colors[i + 1] and colors[i] == colors[i + 2]:\n",
    "                    counter += 1\n",
    "        return counter"
   ]
  },
  {
   "cell_type": "code",
   "execution_count": null,
   "metadata": {},
   "outputs": [],
   "source": [
    "# Solution 2\n",
    "class Solution:\n",
    "    def numberOfAlternatingGroups(self, colors: list[int]) -> int:\n",
    "        counter: int = 0\n",
    "        n = len(colors)\n",
    "        colors += colors\n",
    "        for i in range(n):\n",
    "            if colors[i] != colors[i + 1] and colors[i] == colors[i + 2]:\n",
    "                counter += 1\n",
    "        return counter"
   ]
  }
 ],
 "metadata": {
  "kernelspec": {
   "display_name": "llms",
   "language": "python",
   "name": "python3"
  },
  "language_info": {
   "name": "python",
   "version": "3.11.11"
  }
 },
 "nbformat": 4,
 "nbformat_minor": 2
}
