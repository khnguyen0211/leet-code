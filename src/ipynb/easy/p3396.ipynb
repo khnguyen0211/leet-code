{
 "cells": [
  {
   "cell_type": "markdown",
   "id": "99a5d302",
   "metadata": {},
   "source": [
    "<a href=\"https://leetcode.com/problems/minimum-number-of-operations-to-make-elements-in-array-distinct/description\">3396. Minimum Number of Operations to Make Elements in Array Distinct</a>"
   ]
  },
  {
   "cell_type": "code",
   "execution_count": null,
   "id": "ea869e8a",
   "metadata": {},
   "outputs": [],
   "source": [
    "from collections import Counter\n",
    "\n",
    "class Solution:\n",
    "    def minimumOperations(self, nums: list[int]) -> int:\n",
    "        counter = 0\n",
    "        numsDict = Counter(nums)\n",
    "        start = 0\n",
    "        end = 3\n",
    "        while start < len(nums):\n",
    "            if self.isDistinctDict(numsDict):\n",
    "                return counter\n",
    "            end = min(end, len(nums) - 1)\n",
    "            subArray = nums[start:end]\n",
    "            for i in subArray:\n",
    "                numsDict[i] -= 1\n",
    "            counter += 1\n",
    "            start = end\n",
    "            end += 3\n",
    "        return counter\n",
    "\n",
    "    def isDistinctDict(self, numsDict: dict) -> bool:\n",
    "        for v in numsDict.values():\n",
    "            if v > 1:\n",
    "                return False\n",
    "        return True"
   ]
  }
 ],
 "metadata": {
  "kernelspec": {
   "display_name": "base",
   "language": "python",
   "name": "python3"
  },
  "language_info": {
   "name": "python",
   "version": "3.12.7"
  }
 },
 "nbformat": 4,
 "nbformat_minor": 5
}
