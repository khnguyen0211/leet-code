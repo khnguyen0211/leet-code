{
 "cells": [
  {
   "cell_type": "markdown",
   "id": "9a1fdd65",
   "metadata": {},
   "source": [
    "<a href=\"https://leetcode.com/problems/find-target-indices-after-sorting-array/description/\">2089. Find Target Indices After Sorting Array</a>"
   ]
  },
  {
   "cell_type": "code",
   "execution_count": 1,
   "id": "38f6df21",
   "metadata": {},
   "outputs": [],
   "source": [
    "class Solution:\n",
    "    def targetIndices(self, nums: list[int], target: int) -> list[int]:\n",
    "        sortedNums = sorted(nums)\n",
    "        targetIndices = list()\n",
    "\n",
    "        if target < sortedNums[0] or target > sortedNums[-1]:\n",
    "            return targetIndices\n",
    "\n",
    "        for i in range(len(sortedNums)):\n",
    "            if sortedNums[i] > target:\n",
    "                break\n",
    "            if sortedNums[i] == target:\n",
    "                targetIndices.append(i)\n",
    "                    \n",
    "        return targetIndices"
   ]
  }
 ],
 "metadata": {
  "kernelspec": {
   "display_name": "llms",
   "language": "python",
   "name": "python3"
  },
  "language_info": {
   "codemirror_mode": {
    "name": "ipython",
    "version": 3
   },
   "file_extension": ".py",
   "mimetype": "text/x-python",
   "name": "python",
   "nbconvert_exporter": "python",
   "pygments_lexer": "ipython3",
   "version": "3.11.11"
  }
 },
 "nbformat": 4,
 "nbformat_minor": 5
}
